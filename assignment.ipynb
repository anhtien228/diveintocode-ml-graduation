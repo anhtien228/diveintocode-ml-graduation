{
 "cells": [
  {
   "cell_type": "markdown",
   "metadata": {
    "id": "EQ9oEAn43Wnk"
   },
   "source": [
    "# **DIVE INTO CODE COURSE**\n",
    "## **Graduation Assignment**\n",
    "**Student Name**: Doan Anh Tien<br>\n",
    "**Student ID**: 1852789<br>\n",
    "**Email**: tien.doan.g0pr0@hcmut.edu.vn"
   ]
  },
  {
   "cell_type": "markdown",
   "metadata": {
    "id": "3K4jtd8M7G6d"
   },
   "source": [
    "### **[Problem 1] Learning and Estimation**\n",
    "Please refer to the README to run the above implementation."
   ]
  },
  {
   "cell_type": "code",
   "execution_count": 65,
   "metadata": {},
   "outputs": [
    {
     "name": "stdout",
     "output_type": "stream",
     "text": [
      "Num GPUs Available:  1\n"
     ]
    }
   ],
   "source": [
    "import tensorflow as tf\n",
    "print(\"Num GPUs Available: \", len(tf.config.list_physical_devices('GPU')))"
   ]
  },
  {
   "cell_type": "code",
   "execution_count": 86,
   "metadata": {},
   "outputs": [
    {
     "name": "stdout",
     "output_type": "stream",
     "text": [
      "Tue Feb  8 01:42:16 2022       \n",
      "+-----------------------------------------------------------------------------+\n",
      "| NVIDIA-SMI 511.23       Driver Version: 511.23       CUDA Version: 11.6     |\n",
      "|-------------------------------+----------------------+----------------------+\n",
      "| GPU  Name            TCC/WDDM | Bus-Id        Disp.A | Volatile Uncorr. ECC |\n",
      "| Fan  Temp  Perf  Pwr:Usage/Cap|         Memory-Usage | GPU-Util  Compute M. |\n",
      "|                               |                      |               MIG M. |\n",
      "|===============================+======================+======================|\n",
      "|   0  NVIDIA GeForce ... WDDM  | 00000000:20:00.0  On |                  N/A |\n",
      "|  0%   51C    P8     9W / 200W |    633MiB /  6144MiB |      9%      Default |\n",
      "|                               |                      |                  N/A |\n",
      "+-------------------------------+----------------------+----------------------+\n",
      "                                                                               \n",
      "+-----------------------------------------------------------------------------+\n",
      "| Processes:                                                                  |\n",
      "|  GPU   GI   CI        PID   Type   Process name                  GPU Memory |\n",
      "|        ID   ID                                                   Usage      |\n",
      "|=============================================================================|\n",
      "|    0   N/A  N/A      1608    C+G                                   N/A      |\n",
      "|    0   N/A  N/A      2732    C+G   ...wekyb3d8bbwe\\Video.UI.exe    N/A      |\n",
      "|    0   N/A  N/A      5172    C+G   C:\\Windows\\explorer.exe         N/A      |\n",
      "|    0   N/A  N/A      5992    C+G   ...fyw5nnt\\app\\Messenger.exe    N/A      |\n",
      "|    0   N/A  N/A      8076    C+G   ...ekyb3d8bbwe\\YourPhone.exe    N/A      |\n",
      "|    0   N/A  N/A      9624    C+G                                   N/A      |\n",
      "|    0   N/A  N/A      9908    C+G   ...perience\\NVIDIA Share.exe    N/A      |\n",
      "|    0   N/A  N/A     11076    C+G   ...es.TextInput.InputApp.exe    N/A      |\n",
      "|    0   N/A  N/A     11444    C+G   ...perience\\NVIDIA Share.exe    N/A      |\n",
      "|    0   N/A  N/A     11584    C+G   ...8wekyb3d8bbwe\\GameBar.exe    N/A      |\n",
      "|    0   N/A  N/A     12168    C+G                                   N/A      |\n",
      "|    0   N/A  N/A     12616    C+G   ...w5n1h2txyewy\\SearchUI.exe    N/A      |\n",
      "|    0   N/A  N/A     12928    C+G   ...lPanel\\SystemSettings.exe    N/A      |\n",
      "|    0   N/A  N/A     14372    C+G   ...kyb3d8bbwe\\Calculator.exe    N/A      |\n",
      "|    0   N/A  N/A     14572    C+G   ...icrosoft VS Code\\Code.exe    N/A      |\n",
      "|    0   N/A  N/A     14836    C+G   ...y\\ShellExperienceHost.exe    N/A      |\n",
      "|    0   N/A  N/A     17620    C+G   ...bbwe\\Microsoft.Photos.exe    N/A      |\n",
      "|    0   N/A  N/A     17656    C+G   ...batNotificationClient.exe    N/A      |\n",
      "|    0   N/A  N/A     20184    C+G   ...dows\\System32\\WWAHost.exe    N/A      |\n",
      "+-----------------------------------------------------------------------------+\n"
     ]
    }
   ],
   "source": [
    "!nvidia-smi"
   ]
  },
  {
   "cell_type": "markdown",
   "metadata": {},
   "source": [
    "## Preprocessing Dataset "
   ]
  },
  {
   "cell_type": "code",
   "execution_count": 66,
   "metadata": {},
   "outputs": [
    {
     "data": {
      "text/plain": [
       "device(type='cuda')"
      ]
     },
     "execution_count": 66,
     "metadata": {},
     "output_type": "execute_result"
    }
   ],
   "source": [
    "import torch\n",
    "\n",
    "if torch.cuda.is_available():\n",
    "    device = torch.device('cuda')\n",
    "else:\n",
    "    device = torch.device('cpu')\n",
    "    \n",
    "device"
   ]
  },
  {
   "cell_type": "code",
   "execution_count": 67,
   "metadata": {},
   "outputs": [],
   "source": [
    "import os\n",
    "import numpy as np\n",
    "import pandas as pd\n",
    "\n",
    "import torch\n",
    "from torch.utils.data import Dataset\n",
    "\n",
    "\n",
    "from PIL import Image"
   ]
  },
  {
   "cell_type": "code",
   "execution_count": 68,
   "metadata": {},
   "outputs": [
    {
     "data": {
      "text/html": [
       "<div>\n",
       "<style scoped>\n",
       "    .dataframe tbody tr th:only-of-type {\n",
       "        vertical-align: middle;\n",
       "    }\n",
       "\n",
       "    .dataframe tbody tr th {\n",
       "        vertical-align: top;\n",
       "    }\n",
       "\n",
       "    .dataframe thead th {\n",
       "        text-align: right;\n",
       "    }\n",
       "</style>\n",
       "<table border=\"1\" class=\"dataframe\">\n",
       "  <thead>\n",
       "    <tr style=\"text-align: right;\">\n",
       "      <th></th>\n",
       "      <th>image_id</th>\n",
       "      <th>fname</th>\n",
       "      <th>mask</th>\n",
       "      <th>distancing</th>\n",
       "      <th>5k</th>\n",
       "    </tr>\n",
       "  </thead>\n",
       "  <tbody>\n",
       "    <tr>\n",
       "      <th>0</th>\n",
       "      <td>1</td>\n",
       "      <td>1.jpg</td>\n",
       "      <td>1.0</td>\n",
       "      <td>1.0</td>\n",
       "      <td>1.0</td>\n",
       "    </tr>\n",
       "    <tr>\n",
       "      <th>1</th>\n",
       "      <td>2</td>\n",
       "      <td>2.jpg</td>\n",
       "      <td>0.0</td>\n",
       "      <td>NaN</td>\n",
       "      <td>NaN</td>\n",
       "    </tr>\n",
       "    <tr>\n",
       "      <th>2</th>\n",
       "      <td>3</td>\n",
       "      <td>3.jpg</td>\n",
       "      <td>1.0</td>\n",
       "      <td>1.0</td>\n",
       "      <td>1.0</td>\n",
       "    </tr>\n",
       "    <tr>\n",
       "      <th>3</th>\n",
       "      <td>4</td>\n",
       "      <td>4.jpg</td>\n",
       "      <td>1.0</td>\n",
       "      <td>1.0</td>\n",
       "      <td>1.0</td>\n",
       "    </tr>\n",
       "    <tr>\n",
       "      <th>4</th>\n",
       "      <td>5</td>\n",
       "      <td>5.jpg</td>\n",
       "      <td>0.0</td>\n",
       "      <td>0.0</td>\n",
       "      <td>0.0</td>\n",
       "    </tr>\n",
       "    <tr>\n",
       "      <th>...</th>\n",
       "      <td>...</td>\n",
       "      <td>...</td>\n",
       "      <td>...</td>\n",
       "      <td>...</td>\n",
       "      <td>...</td>\n",
       "    </tr>\n",
       "    <tr>\n",
       "      <th>4170</th>\n",
       "      <td>4171</td>\n",
       "      <td>4171.jpg</td>\n",
       "      <td>0.0</td>\n",
       "      <td>1.0</td>\n",
       "      <td>0.0</td>\n",
       "    </tr>\n",
       "    <tr>\n",
       "      <th>4171</th>\n",
       "      <td>4172</td>\n",
       "      <td>4172.jpg</td>\n",
       "      <td>1.0</td>\n",
       "      <td>1.0</td>\n",
       "      <td>1.0</td>\n",
       "    </tr>\n",
       "    <tr>\n",
       "      <th>4172</th>\n",
       "      <td>4173</td>\n",
       "      <td>4173.jpg</td>\n",
       "      <td>1.0</td>\n",
       "      <td>NaN</td>\n",
       "      <td>NaN</td>\n",
       "    </tr>\n",
       "    <tr>\n",
       "      <th>4173</th>\n",
       "      <td>4174</td>\n",
       "      <td>4174.jpg</td>\n",
       "      <td>1.0</td>\n",
       "      <td>1.0</td>\n",
       "      <td>1.0</td>\n",
       "    </tr>\n",
       "    <tr>\n",
       "      <th>4174</th>\n",
       "      <td>4175</td>\n",
       "      <td>4175.jpg</td>\n",
       "      <td>1.0</td>\n",
       "      <td>1.0</td>\n",
       "      <td>1.0</td>\n",
       "    </tr>\n",
       "  </tbody>\n",
       "</table>\n",
       "<p>4175 rows × 5 columns</p>\n",
       "</div>"
      ],
      "text/plain": [
       "      image_id     fname  mask  distancing   5k\n",
       "0            1     1.jpg   1.0         1.0  1.0\n",
       "1            2     2.jpg   0.0         NaN  NaN\n",
       "2            3     3.jpg   1.0         1.0  1.0\n",
       "3            4     4.jpg   1.0         1.0  1.0\n",
       "4            5     5.jpg   0.0         0.0  0.0\n",
       "...        ...       ...   ...         ...  ...\n",
       "4170      4171  4171.jpg   0.0         1.0  0.0\n",
       "4171      4172  4172.jpg   1.0         1.0  1.0\n",
       "4172      4173  4173.jpg   1.0         NaN  NaN\n",
       "4173      4174  4174.jpg   1.0         1.0  1.0\n",
       "4174      4175  4175.jpg   1.0         1.0  1.0\n",
       "\n",
       "[4175 rows x 5 columns]"
      ]
     },
     "execution_count": 68,
     "metadata": {},
     "output_type": "execute_result"
    }
   ],
   "source": [
    "test = pd.read_csv('dataset/train/train_meta.csv')\n",
    "test"
   ]
  },
  {
   "cell_type": "code",
   "execution_count": 82,
   "metadata": {},
   "outputs": [],
   "source": [
    "class Data5K(Dataset):\n",
    "    def __init__(self, path, csv_file='train_meta.csv', split='train', transform=None):\n",
    "        self.path = path\n",
    "        self.split = split\n",
    "        self.transform = transform\n",
    "\n",
    "        self.metadata = pd.read_csv(os.path.join(path, csv_file))\n",
    "\n",
    "        if 'index' in self.metadata.columns:\n",
    "            self.metadata.drop(columns=['index'], inplace = True)\n",
    "\n",
    "        if 'Unnamed: 0' in self.metadata.columns:\n",
    "            self.metadata.drop(columns=['Unnamed: 0'], inplace = True)\n",
    "\n",
    "        self.metadata.dropna(inplace=True)\n",
    "        self.metadata.reset_index(drop=True, inplace=True)\n",
    "\n",
    "    def __len__(self):\n",
    "        return len(self.metadata)\n",
    "\n",
    "    def __getitem__(self, index):\n",
    "        row = self.metadata.loc[index]\n",
    "        fname = row['fname']\n",
    "\n",
    "        img = Image.open(os.path.join(self.path, 'images', fname)).convert(('RGB')) # Open image in gray mode initially and converted to RGB\n",
    "\n",
    "        if self.transform is not None:\n",
    "            img = self.transform(img)\n",
    "\n",
    "        data = dict() # Return the dictionary of the corresponding row\n",
    "\n",
    "        if self.split != 'test':\n",
    "            mask = row['mask'] # Mask of people\n",
    "            dist = row['dist'] # Distance between people\n",
    "\n",
    "        fivek = row['5k']\n",
    "        # If not NaN, format as int type (originally string)\n",
    "        data['mask'] = mask if np.isnan(mask) else int(mask)\n",
    "        data['dist'] = dist if np.isnan(dist) else int(dist)\n",
    "        data['5k'] = fivek if np.isnan(fivek) else int(fivek)\n",
    "        data['image'] = img\n",
    "\n",
    "        return data\n",
    "\n",
    "    def append_data(self, rows):\n",
    "        self.meta = self.meta.append(rows)\n",
    "        self.meta.reset_index(drop=True, inplace=True)"
   ]
  },
  {
   "cell_type": "code",
   "execution_count": 83,
   "metadata": {},
   "outputs": [],
   "source": [
    "class UnlabeledData5K(Dataset):\n",
    "    def __init__(self, path, csv_file='train_meta.csv', split='train', transform=None):\n",
    "        self.path = path\n",
    "        self.split = split\n",
    "        self.transform = transform\n",
    "\n",
    "        self.metadata = pd.read_csv(os.path.join(path, csv_file))\n",
    "        \n",
    "        self.metadata = self.metadata[self.metadata.isna().any(axis=1)] # Retrieve the rows that missing one of the features (mask, distance, 5k) or all\n",
    "        self.metadata.reset_index(drop=True, inplace=True)\n",
    "\n",
    "        if 'index' in self.metadata.columns:\n",
    "            self.metadata.drop(columns=['index'], inplace = True)\n",
    "\n",
    "        if 'Unnamed: 0' in self.metadata.columns:\n",
    "            self.metadata.drop(columns=['Unnamed: 0'], inplace = True)\n",
    "            \n",
    "\n",
    "    def __len__(self):\n",
    "        return len(self.metadata)\n",
    "\n",
    "    def __getitem__(self, index):\n",
    "        row = self.metadata.loc[index]\n",
    "        fname = row['fname']\n",
    "\n",
    "        img = Image.open(os.path.join(self.path, 'images', fname)).convert(('RGB')) # Open image in gray mode initially and converted to RGB\n",
    "\n",
    "        if self.transform is not None:\n",
    "            img = self.transform(img)\n",
    "\n",
    "        data = dict() # Return the dictionary of the corresponding row\n",
    "\n",
    "        if self.split != 'test':\n",
    "            mask = row['mask'] # Mask of people\n",
    "            dist = row['dist'] # Distance between people\n",
    "\n",
    "        fivek = row['5k']\n",
    "        # If not NaN, format as int type (originally string)\n",
    "        data['mask'] = mask if np.isnan(mask) else int(mask)\n",
    "        data['dist'] = dist if np.isnan(dist) else int(dist)\n",
    "        data['5k'] = fivek if np.isnan(fivek) else int(fivek)\n",
    "        data['index'] = index\n",
    "        data['image'] = img\n",
    "\n",
    "        return data\n",
    "\n",
    "    def retrieve_data(self, indexes):\n",
    "        rows = self.metadata.iloc[indexes]\n",
    "        self.metadata.drop(self.metadata.index[indexes], inplace=True)\n",
    "        self.metadata.reset_index(drop=True, inplace=True)\n",
    "\n",
    "        return rows\n"
   ]
  },
  {
   "cell_type": "markdown",
   "metadata": {},
   "source": [
    "## Plotting"
   ]
  },
  {
   "cell_type": "code",
   "execution_count": 71,
   "metadata": {},
   "outputs": [],
   "source": [
    "import matplotlib.pyplot as plt\n",
    "\n",
    "def split_train_val(path):\n",
    "    metadata = pd.read_csv(os.path.join(path, 'train_meta.csv'))\n",
    "    metadata.dropna(inplace=True)\n",
    "    metadata.reset_index(inplace=True)\n",
    "\n",
    "    val_row = metadata[metadata['5k'].notnull()]\n",
    "\n",
    "    fig = plt.figure(figsize = (12,16))\n",
    "    ax1 = fig.gca()\n",
    "    val_row.hist(ax=ax1)\n",
    "    fig.suptitle(\"Original data\")\n",
    "\n",
    "    df_val = val_row.sample(n=200)\n",
    "    df_val.to_csv(os.path.join(path, 'train_meta_val.csv'))\n",
    "\n",
    "    df_all = metadata.merge(df_val.drop_duplicates(), how='left', indicator=True)\n",
    "    df_train = df_all[df_all['_merge'] == 'left_only'].drop('_merge', axis=1)\n",
    "    df_train.to_csv(os.path.join(path, 'train_meta_train.csv'))\n",
    "\n",
    "    fig = plt.figure(figsize = (12,16))\n",
    "    ax2 = fig.gca()\n",
    "    df_val.hist(ax=ax2)\n",
    "    fig.suptitle(\"Validation data\")\n",
    "\n",
    "    # plt.show()"
   ]
  },
  {
   "cell_type": "code",
   "execution_count": 72,
   "metadata": {},
   "outputs": [
    {
     "name": "stderr",
     "output_type": "stream",
     "text": [
      "C:\\Users\\Bin\\AppData\\Local\\Temp/ipykernel_15348/404917155.py:12: UserWarning: To output multiple subplots, the figure containing the passed axes is being cleared\n",
      "  val_row.hist(ax=ax1)\n",
      "C:\\Users\\Bin\\AppData\\Local\\Temp/ipykernel_15348/404917155.py:24: UserWarning: To output multiple subplots, the figure containing the passed axes is being cleared\n",
      "  df_val.hist(ax=ax2)\n"
     ]
    },
    {
     "data": {
      "image/png": "[encoded data removed]",
      "text/plain": [
       "<Figure size 864x1152 with 6 Axes>"
      ]
     },
     "metadata": {
      "needs_background": "light"
     },
     "output_type": "display_data"
    },
    {
     "data": {
      "image/png": "[encoded data removed]",
      "text/plain": [
       "<Figure size 864x1152 with 6 Axes>"
      ]
     },
     "metadata": {
      "needs_background": "light"
     },
     "output_type": "display_data"
    }
   ],
   "source": [
    "split_train_val('dataset/train')"
   ]
  },
  {
   "cell_type": "markdown",
   "metadata": {},
   "source": [
    "## Transform Image"
   ]
  },
  {
   "cell_type": "code",
   "execution_count": 80,
   "metadata": {},
   "outputs": [],
   "source": [
    "from torchvision import transforms\n",
    "\n",
    "transforms_train_data = transforms.Compose([transforms.CenterCrop(500),\n",
    "                                            transforms.RandomHorizontalFlip(p=0.42),\n",
    "                                            transforms.Resize([320, 320]),\n",
    "                                            transforms.ToTensor(),\n",
    "                                            transforms.Normalize(mean=(0.495, 0.465, 0.425), std=(0.221, 0.195, 0.212))\n",
    "                                            ])\n",
    "\n",
    "transforms_val_data = transforms.Compose([transforms.ToTensor(),\n",
    "                                          transforms.Resize([320, 320]),\n",
    "                                          transforms.Normalize(mean=(0.495, 0.465, 0.425), std=(0.221, 0.195, 0.212))\n",
    "                                          ])"
   ]
  },
  {
   "cell_type": "code",
   "execution_count": 84,
   "metadata": {},
   "outputs": [],
   "source": [
    "# Use the composed transformer above for train and validation dataset\n",
    "\n",
    "# Labeled train dataset\n",
    "labeled_train_data = Data5K('dataset/train', 'train_meta_train.csv', 'train', transforms_train_data)\n",
    "\n",
    "# Unlabeled train dataset\n",
    "unlabeled_train_data = UnlabeledData5K('dataset/train', 'train_meta.csv', 'train', transforms_train_data)\n",
    "\n",
    "# Validation dataset\n",
    "validation_data = Data5K('dataset/train/', 'train_meta_val.csv', 'valid', transforms_val_data)"
   ]
  },
  {
   "cell_type": "markdown",
   "metadata": {},
   "source": [
    "## Wrap the Dataset into a Dataloader"
   ]
  },
  {
   "cell_type": "code",
   "execution_count": null,
   "metadata": {},
   "outputs": [],
   "source": [
    "from torch.utils.data import DataLoader\n",
    "\n",
    "labeled_train_loader = DataLoader(labeled_train_data, shuffle=True, batch_size=32)\n",
    "\n",
    "unlabeled_train_loader = DataLoader(unlabeled_train_data, shuffle=True, batch_size=32)\n",
    "\n",
    "validation_loader = DataLoader(validation_data, shuffle=True, batch_size=32)"
   ]
  },
  {
   "cell_type": "markdown",
   "metadata": {},
   "source": [
    "## Modeling"
   ]
  },
  {
   "cell_type": "code",
   "execution_count": null,
   "metadata": {},
   "outputs": [],
   "source": [
    "import torch.nn as nn\n",
    "from efficientnet_pytorch import EfficientNet"
   ]
  }
 ],
 "metadata": {
  "interpreter": {
   "hash": "371a95268a4cae7a5a53d9d2241c789d8733f454db775f7c25b7e1e26ed165ec"
  },
  "kernelspec": {
   "display_name": "Python 3.9.7 64-bit ('base': conda)",
   "language": "python",
   "name": "python3"
  },
  "language_info": {
   "codemirror_mode": {
    "name": "ipython",
    "version": 3
   },
   "file_extension": ".py",
   "mimetype": "text/x-python",
   "name": "python",
   "nbconvert_exporter": "python",
   "pygments_lexer": "ipython3",
   "version": "3.9.7"
  },
  "orig_nbformat": 4
 },
 "nbformat": 4,
 "nbformat_minor": 2
}
