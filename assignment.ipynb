{
 "cells": [
  {
   "cell_type": "markdown",
   "metadata": {
    "id": "EQ9oEAn43Wnk"
   },
   "source": [
    "# **DIVE INTO CODE COURSE**\n",
    "## **Graduation Assignment**\n",
    "**Student Name**: Doan Anh Tien<br>\n",
    "**Student ID**: 1852789<br>\n",
    "**Email**: tien.doan.g0pr0@hcmut.edu.vn"
   ]
  },
  {
   "cell_type": "markdown",
   "metadata": {
    "id": "3K4jtd8M7G6d"
   },
   "source": [
    "### **[Problem 1] Learning and Estimation**\n",
    "Please refer to the README to run the above implementation."
   ]
  },
  {
   "cell_type": "code",
   "execution_count": 1,
   "metadata": {},
   "outputs": [
    {
     "name": "stdout",
     "output_type": "stream",
     "text": [
      "Num GPUs Available:  1\n"
     ]
    }
   ],
   "source": [
    "import tensorflow as tf\n",
    "print(\"Num GPUs Available: \", len(tf.config.list_physical_devices('GPU')))"
   ]
  }
 ],
 "metadata": {
  "interpreter": {
   "hash": "371a95268a4cae7a5a53d9d2241c789d8733f454db775f7c25b7e1e26ed165ec"
  },
  "kernelspec": {
   "display_name": "Python 3.9.7 64-bit ('base': conda)",
   "language": "python",
   "name": "python3"
  },
  "language_info": {
   "codemirror_mode": {
    "name": "ipython",
    "version": 3
   },
   "file_extension": ".py",
   "mimetype": "text/x-python",
   "name": "python",
   "nbconvert_exporter": "python",
   "pygments_lexer": "ipython3",
   "version": "3.9.7"
  },
  "orig_nbformat": 4
 },
 "nbformat": 4,
 "nbformat_minor": 2
}
